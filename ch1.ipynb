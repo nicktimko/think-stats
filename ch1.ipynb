{
 "cells": [
  {
   "cell_type": "code",
   "execution_count": 1,
   "metadata": {
    "collapsed": false
   },
   "outputs": [],
   "source": [
    "%matplotlib inline\n",
    "import pathlib\n",
    "import io\n",
    "import re\n",
    "import collections\n",
    "\n",
    "import numpy as np\n",
    "import pandas as pd\n",
    "import matplotlib.pyplot as plt\n",
    "plt.style.use('ggplot')"
   ]
  },
  {
   "cell_type": "markdown",
   "metadata": {},
   "source": [
    "# 1 Exploratory Data Analysis\n",
    "## Are first babies born late?"
   ]
  },
  {
   "cell_type": "markdown",
   "metadata": {},
   "source": [
    "## 1.2 NSFG Data\n",
    "\n",
    "Using the 2011-13 data because why not (book uses older data). I compressed the `.dat` files to save some space (only because they can be transparently expanded by Pandas when reading)\n",
    "\n",
    "* [2011-2013 NSFG: Public Use Data Files, Codebooks, and Documentation](http://www.cdc.gov/nchs/nsfg/nsfg_2011_2013_puf.htm)"
   ]
  },
  {
   "cell_type": "code",
   "execution_count": 2,
   "metadata": {
    "collapsed": false
   },
   "outputs": [
    {
     "name": "stdout",
     "output_type": "stream",
     "text": [
      "data\\nsfg\\DATA_USER_AGREEMENT.md\n",
      "data\\nsfg\\2011_2013_FemPregSetup.dct\n",
      "data\\nsfg\\2011_2013_FemPregSetup.do\n",
      "data\\nsfg\\2011_2013_FemRespSetup.dct\n",
      "data\\nsfg\\2011_2013_FemRespSetup.do\n",
      "data\\nsfg\\2011_2013_FemRespData.dat.bz2\n",
      "data\\nsfg\\2011_2013_FemPregData.dat.bz2\n"
     ]
    }
   ],
   "source": [
    "nsfgdir = pathlib.Path('data/nsfg')\n",
    "for child in nsfgdir.iterdir():\n",
    "    print(child)"
   ]
  },
  {
   "cell_type": "markdown",
   "metadata": {},
   "source": [
    "## 1.3 Importing the Data\n",
    "\n",
    "It looks like some hybrid mix of STATA formats? STATA files are binary, but these have multiple parts:\n",
    "\n",
    "* `.dat` with data in fixed width columns\n",
    "* `.dct` a file (that says it's for STATA) that specifies the column widths and what data they contain\n",
    "* `.do` files with annotations for special values present in the columns\n",
    "\n",
    "The author also uses some asinine naming scheme unlike anything else, so forget about his code."
   ]
  },
  {
   "cell_type": "code",
   "execution_count": 3,
   "metadata": {
    "collapsed": false
   },
   "outputs": [],
   "source": [
    "def read_stata_data(dat_path: pathlib.Path, dct_spec: pathlib.Path) -> (pd.DataFrame, dict):\n",
    "    \"\"\"Reads fixed-width data file as per definitions in STATA .dct file\"\"\"\n",
    "    fwf_kwargs, more_info = read_stata_dct(dct_spec)\n",
    "    \n",
    "    fwf_kwargs['compression'] = {'.bz2': 'bz2', '.gz': 'gzip'}.get(dat_path.suffix, None)\n",
    "    df = pd.io.parsers.read_fwf(str(dat_path), **fwf_kwargs)\n",
    "    \n",
    "    return df, more_info\n",
    "\n",
    "def read_stata_dct(path: pathlib.Path) -> (dict, dict):\n",
    "    \"\"\"Determines a STATA .dct file's data definitions\"\"\"\n",
    "    dtype_mapping = {\n",
    "        'long': int,\n",
    "        'int': int,\n",
    "        'byte': int,\n",
    "        'double': float,\n",
    "        'float': float,\n",
    "    }\n",
    "    \n",
    "    with path.open() as f:\n",
    "        colspecs = []\n",
    "        names = []\n",
    "        dtypes = {}\n",
    "        more = {}\n",
    "        \n",
    "        col_pattern = re.compile(r'''\\s+\n",
    "            _column\\((?P<colstart>\\d+)\\)\\s+\n",
    "            (?P<dtype>\\w+)\\s+\n",
    "            (?P<field>\\w+)\\s+\n",
    "            %(?P<width>\\d+)(?P<fmtchr>\\w)\\s+\n",
    "            (\\\"(?P<desc>[^\\\"]*)\\\")?''',\n",
    "            flags=re.VERBOSE)\n",
    "                \n",
    "        col_defs = (m for m in (col_pattern.match(line) for line in f) if m)\n",
    "        for col_def in col_defs:\n",
    "            data = col_def.groupdict()\n",
    "            \n",
    "            name = data['field']\n",
    "            names.append(name)\n",
    "            \n",
    "            start = int(data['colstart']) - 1\n",
    "            width = int(data['width'])\n",
    "            \n",
    "            colspecs.append((start, start + width))\n",
    "            \n",
    "            if data['fmtchr'] == 'f':\n",
    "                dtypes[name] = dtype_mapping[data['dtype']]\n",
    "            elif data['fmtchr'] == 's':\n",
    "                dtypes[name] = 'str'\n",
    "        \n",
    "            more[name] = {'desc': data['desc']}\n",
    "        \n",
    "    fwf_kwargs = {\n",
    "        'colspecs': colspecs,\n",
    "        'names': names,\n",
    "        #'converters': dtypes,\n",
    "    }\n",
    "        \n",
    "    return fwf_kwargs, more"
   ]
  },
  {
   "cell_type": "code",
   "execution_count": 4,
   "metadata": {
    "collapsed": false
   },
   "outputs": [],
   "source": [
    "pdata = nsfgdir / '2011_2013_FemPregData.dat.bz2'\n",
    "pspec = nsfgdir / '2011_2013_FemPregSetup.dct'\n",
    "fempreg, fempreg_info = read_stata_data(pdata, pspec)\n",
    "\n",
    "pdata = nsfgdir / '2011_2013_FemRespData.dat.bz2'\n",
    "pspec = nsfgdir / '2011_2013_FemRespSetup.dct'\n",
    "femresp, femresp_info = read_stata_data(pdata, pspec)"
   ]
  },
  {
   "cell_type": "markdown",
   "metadata": {},
   "source": [
    "## 1.4 Data Frames"
   ]
  },
  {
   "cell_type": "code",
   "execution_count": 5,
   "metadata": {
    "collapsed": false
   },
   "outputs": [
    {
     "name": "stdout",
     "output_type": "stream",
     "text": [
      "<class 'pandas.core.frame.DataFrame'>\n",
      "(9543, 278)\n"
     ]
    }
   ],
   "source": [
    "print(type(fempreg))\n",
    "print(fempreg.shape)"
   ]
  },
  {
   "cell_type": "markdown",
   "metadata": {},
   "source": [
    "## 1.5 Variables\n",
    "\n",
    "Some of the columns are \"recodes\", transformations on the raw data that have already been done."
   ]
  },
  {
   "cell_type": "code",
   "execution_count": 6,
   "metadata": {
    "collapsed": false
   },
   "outputs": [
    {
     "data": {
      "text/plain": [
       "Index(['CASEID', 'PREGORDR', 'HOWPREG_N', 'HOWPREG_P', 'MOSCURRP', 'NOWPRGDK', 'PREGEND1', 'PREGEND2', 'HOWENDDK', 'NBRNALIV', 'MULTBRTH', 'BORNALIV', 'DATPRGEN_M', 'DATPRGEN_Y', 'CMOTPREG', 'AGEATEND', 'HPAGEEND', 'GESTASUN_M', 'GESTASUN_W', 'WKSGEST', 'MOSGEST', 'DK1GEST', 'DK2GEST', 'DK3GEST', 'BPA_BDSCHECK1', 'BABYSEX1', 'BIRTHWGT_LB1', 'BIRTHWGT_OZ1', 'LOBTHWGT1', 'BABYSEX2', 'BIRTHWGT_LB2', 'BIRTHWGT_OZ2', 'LOBTHWGT2', 'BABYSEX3', 'BIRTHWGT_LB3', 'BIRTHWGT_OZ3', 'LOBTHWGT3', 'BABYDOB_M', 'BABYDOB_Y', 'CMBABDOB', 'KIDAGE', 'HPAGELB', 'BIRTHPLC', 'PAYBIRTH1', 'PAYBIRTH2', 'PAYBIRTH3', 'CSECPRIM', 'CSECMED1', 'CSECMED2', 'CSECMED3', 'CSECMED4', 'CSECMED5', 'CSECMED6', 'CSECPLAN', 'KNEWPREG', 'TRIMESTR', 'LTRIMEST', 'PRIORSMK', 'POSTSMKS', 'NPOSTSMK', 'GETPRENA', 'BGNPRENA', 'PNCTRIM', 'LPNCTRI', 'LIVEHERE1', 'ALIVENOW1', 'WHENDIED_M1', 'WHENDIED_Y1', 'CMKIDIED1', 'WHENLEFT_M1', 'WHENLEFT_Y1', 'CMKIDLFT1', 'LASTAGE1', 'WHERENOW1', 'LEGAGREE1', 'PARENEND1', 'ANYNURSE1', 'FEDSOLID1', 'FRSTEATD_N1', 'FRSTEATD_P1', 'FRSTEATD1', 'QUITNURS1', 'AGEQTNUR_N1', 'AGEQTNUR_P1', 'AGEQTNUR1', 'LIVEHERE2', 'ALIVENOW2', 'WHENDIED_M2', 'WHENDIED_Y2', 'CMKIDIED2', 'WHENLEFT_M2', 'WHENLEFT_Y2', 'CMKIDLFT2', 'LASTAGE2', 'WHERENOW2', 'LEGAGREE2', 'PARENEND2', 'ANYNURSE2', 'FEDSOLID2', 'FRSTEATD_N2', ...], dtype='object')"
      ]
     },
     "execution_count": 6,
     "metadata": {},
     "output_type": "execute_result"
    }
   ],
   "source": [
    "fempreg.columns"
   ]
  },
  {
   "cell_type": "markdown",
   "metadata": {},
   "source": [
    "## 1.6 Transformation & Cleaning\n",
    "\n",
    "Some of the fields are numeric even though they represent non-quantative data (\"Didn't Respond\" &rarr; 98, \"Refused\" &rarr; 99, etc.). Blindly doing math on such fields is obviously a Bad Thing&trade;"
   ]
  },
  {
   "cell_type": "code",
   "execution_count": 7,
   "metadata": {
    "collapsed": false
   },
   "outputs": [],
   "source": [
    "def clean_fempreg(df):\n",
    "    # ages are in centiyears\n",
    "    df.AGEPREG /= 100 \n",
    "    \n",
    "    # birthweights of 97-99 aren't real\n",
    "    na_vals = [97, 98, 99]\n",
    "    for i in ['1', '2', '3']:\n",
    "        df['BIRTHWGT_LB' + i].replace(na_vals, np.nan, inplace=True)\n",
    "        df['BIRTHWGT_OZ' + i].replace(na_vals, np.nan, inplace=True)\n",
    "       \n",
    "        # birthweights are split into lbs/oz\n",
    "        df['BIRTHWGT'+ i] = df['BIRTHWGT_LB'+ i] + df['BIRTHWGT_OZ'+ i] / 16\n",
    "        \n",
    "clean_fempreg(fempreg)"
   ]
  },
  {
   "cell_type": "markdown",
   "metadata": {},
   "source": [
    "## 1.7 Validation\n",
    "\n",
    "The data can sometimes be validated against provided summary statistics. The [Online Codebook page about OUTCOME][outcomedata] says:\n",
    "\n",
    "    value  label               Total\n",
    "    1      LIVE BIRTH           6670\n",
    "    2      INDUCED ABORTION      993\n",
    "    3      STILLBIRTH             71\n",
    "    4      MISCARRIAGE          1451\n",
    "    5      ECTOPIC PREGNANCY     120\n",
    "    6      CURRENT PREGNANCY     238\n",
    "           Total                9543\n",
    "\n",
    "[outcomedata]: http://www.icpsr.umich.edu/icpsradmin/nsfg/variable/613585?studyNumber=9998&vg=7180"
   ]
  },
  {
   "cell_type": "code",
   "execution_count": 8,
   "metadata": {
    "collapsed": false
   },
   "outputs": [
    {
     "data": {
      "text/plain": [
       "1    6670\n",
       "2     993\n",
       "3      71\n",
       "4    1451\n",
       "5     120\n",
       "6     238\n",
       "dtype: int64"
      ]
     },
     "execution_count": 8,
     "metadata": {},
     "output_type": "execute_result"
    }
   ],
   "source": [
    "fempreg.OUTCOME.value_counts().sort_index()"
   ]
  },
  {
   "cell_type": "markdown",
   "metadata": {},
   "source": [
    "## 1.8 Interpretation"
   ]
  },
  {
   "cell_type": "code",
   "execution_count": 9,
   "metadata": {
    "collapsed": false
   },
   "outputs": [],
   "source": [
    "def casemap(df):\n",
    "    d = collections.defaultdict(list)\n",
    "    for index, caseid in df.CASEID.iteritems():\n",
    "        d[caseid].append(index)\n",
    "    return d\n",
    "\n",
    "pregcasemap = casemap(fempreg)"
   ]
  },
  {
   "cell_type": "code",
   "execution_count": 10,
   "metadata": {
    "collapsed": false
   },
   "outputs": [
    {
     "data": {
      "text/plain": [
       "6755    1958\n",
       "6756    2283\n",
       "6757    2500\n",
       "6758    2583\n",
       "6759    3133\n",
       "Name: AGECON, dtype: int64"
      ]
     },
     "execution_count": 10,
     "metadata": {},
     "output_type": "execute_result"
    }
   ],
   "source": [
    "cases = pregcasemap[57354]\n",
    "fempreg.iloc[cases].AGECON"
   ]
  },
  {
   "cell_type": "markdown",
   "metadata": {},
   "source": [
    "## 1.9 Exercises"
   ]
  },
  {
   "cell_type": "code",
   "execution_count": 11,
   "metadata": {
    "collapsed": false
   },
   "outputs": [],
   "source": [
    "first = fempreg[(fempreg.PREGORDR == 1) & (fempreg.OUTCOME == 1)]\n",
    "second = fempreg[(fempreg.PREGORDR == 2) & (fempreg.OUTCOME == 1)]"
   ]
  },
  {
   "cell_type": "code",
   "execution_count": 12,
   "metadata": {
    "collapsed": false
   },
   "outputs": [],
   "source": [
    "first_gestation_weeks = first.WKSGEST.dropna()\n",
    "second_gestation_weeks = second.WKSGEST.dropna()"
   ]
  },
  {
   "cell_type": "code",
   "execution_count": 13,
   "metadata": {
    "collapsed": false
   },
   "outputs": [
    {
     "data": {
      "image/png": "[encoded data removed]",
      "text/plain": [
       "<matplotlib.figure.Figure at 0x7bb10b8>"
      ]
     },
     "metadata": {},
     "output_type": "display_data"
    }
   ],
   "source": [
    "f, ax = plt.subplots()\n",
    "bins = np.arange(30, 45)\n",
    "ax.hist(first_gestation_weeks.values, bins=bins, normed=True, alpha=0.5, label='First Birth')\n",
    "ax.hist(second_gestation_weeks.values, bins=bins, normed=True, alpha=0.5, label='Second Birth')\n",
    "ax.set_title('Gestation Period in Weeks')\n",
    "ax.legend(loc='upper left')\n",
    "pass"
   ]
  },
  {
   "cell_type": "code",
   "execution_count": null,
   "metadata": {
    "collapsed": true
   },
   "outputs": [],
   "source": []
  }
 ],
 "metadata": {
  "kernelspec": {
   "display_name": "Python 3",
   "language": "python",
   "name": "python3"
  },
  "language_info": {
   "codemirror_mode": {
    "name": "ipython",
    "version": 3
   },
   "file_extension": ".py",
   "mimetype": "text/x-python",
   "name": "python",
   "nbconvert_exporter": "python",
   "pygments_lexer": "ipython3",
   "version": "3.4.2"
  }
 },
 "nbformat": 4,
 "nbformat_minor": 0
}
